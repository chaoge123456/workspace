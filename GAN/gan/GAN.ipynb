{
 "cells": [
  {
   "cell_type": "code",
   "execution_count": 1,
   "metadata": {},
   "outputs": [],
   "source": [
    "import torch\n",
    "import torchvision\n",
    "import torch.nn as nn\n",
    "from torch.utils.tensorboard import SummaryWriter"
   ]
  },
  {
   "cell_type": "code",
   "execution_count": 7,
   "metadata": {},
   "outputs": [],
   "source": [
    "class Generator(nn.Module):\n",
    "    def __init__(self, latent):\n",
    "        super(Generator, self).__init__()\n",
    "        self.fc = nn.Sequential(\n",
    "            nn.Linear(latent, 128),\n",
    "            nn.BatchNorm1d(128),\n",
    "            nn.LeakyReLU(0.2, inplace=True),\n",
    "            nn.Linear(128, 256),\n",
    "            nn.BatchNorm1d(256),\n",
    "            nn.LeakyReLU(0.2, inplace=True),\n",
    "            nn.Linear(256, 512),\n",
    "            nn.BatchNorm1d(512),\n",
    "            nn.LeakyReLU(0.2, inplace=True),\n",
    "            nn.Linear(512, 784),\n",
    "            nn.Tanh()\n",
    "        )\n",
    "    def forward(self, x):\n",
    "        x = self.fc(x)\n",
    "        return x\n",
    "\n",
    "class Discriminator(nn.Module):\n",
    "    def __init__(self):\n",
    "        super(Discriminator, self).__init__()\n",
    "        self.fc = nn.Sequential(\n",
    "            nn.Linear(784, 512),\n",
    "            nn.LeakyReLU(0.2, inplace=True),\n",
    "            nn.Linear(512, 256),\n",
    "            nn.LeakyReLU(0.2, inplace=True),\n",
    "            nn.Linear(256, 128),\n",
    "            nn.LeakyReLU(0.2, inplace=True),\n",
    "            nn.Linear(128, 1),\n",
    "            nn.Sigmoid()\n",
    "        )\n",
    "    \n",
    "    def forward(self, x):\n",
    "        x = self.fc(x)\n",
    "        return x"
   ]
  },
  {
   "cell_type": "code",
   "execution_count": 8,
   "metadata": {},
   "outputs": [],
   "source": [
    "train_data = torchvision.datasets.MNIST(root='../dataset/', download=False, train=True, transform=torchvision.transforms.ToTensor())\n",
    "train_iter = torch.utils.data.DataLoader(train_data, batch_size=128, shuffle=True)"
   ]
  },
  {
   "cell_type": "code",
   "execution_count": 18,
   "metadata": {},
   "outputs": [],
   "source": [
    "latent = 64\n",
    "lr = 0.001\n",
    "epochs = 100"
   ]
  },
  {
   "cell_type": "code",
   "execution_count": 19,
   "metadata": {},
   "outputs": [],
   "source": [
    "G = Generator(latent)\n",
    "D = Discriminator()\n",
    "criterion = nn.BCELoss()\n",
    "optimizer_G = torch.optim.RMSprop(G.parameters(), lr=lr)\n",
    "optimizer_D = torch.optim.RMSprop(D.parameters(), lr=lr)"
   ]
  },
  {
   "cell_type": "code",
   "execution_count": null,
   "metadata": {},
   "outputs": [],
   "source": [
    "writer = SummaryWriter()\n",
    "num = 0\n",
    "test = torch.normal(0, 1, (32, latent))\n",
    "for epoch in range(epochs):\n",
    "    avg_loss_g = 0.0\n",
    "    avg_loss_d = 0.0\n",
    "    for i, (real_img, _) in enumerate(train_iter):\n",
    "        batch_size = real_img.shape[0]\n",
    "        real_img = real_img.view(batch_size, -1)\n",
    "        \n",
    "        real_label = torch.ones(batch_size, 1)\n",
    "        fake_label = torch.zeros(batch_size, 1)\n",
    "        \n",
    "        # 训练判别器\n",
    "        d_real = D(real_img)\n",
    "        d_real_loss = criterion(d_real, real_label)\n",
    "        \n",
    "        z = torch.normal(0, 1, (batch_size, latent))\n",
    "        fake_img = G(z)\n",
    "        d_fake = D(fake_img)\n",
    "        d_fake_loss = criterion(d_fake, fake_label)\n",
    "        \n",
    "        optimizer_D.zero_grad()\n",
    "        d_loss = d_real_loss + d_fake_loss\n",
    "        d_loss.backward()\n",
    "        optimizer_D.step()\n",
    "        \n",
    "        # 训练生成器\n",
    "        fake_img = G(z)\n",
    "        d_fake = D(fake_img)\n",
    "        g_loss = criterion(d_fake, real_label)\n",
    "        \n",
    "        optimizer_G.zero_grad()\n",
    "        g_loss.backward()\n",
    "        optimizer_G.step()\n",
    "        \n",
    "        avg_loss_g += g_loss.item()\n",
    "        avg_loss_d += d_loss.item()\n",
    "        \n",
    "        if (i+1) % 100 == 0:\n",
    "            print(\"Epoch:{}, Loss_D:{}, Loss_G:{}\".format(epoch, avg_loss_d/100, avg_loss_g/100))\n",
    "            writer.add_scalar('Loss_D', avg_loss_d/100, num)\n",
    "            writer.add_scalar('Loss_G', avg_loss_g/100, num)\n",
    "            avg_loss_g = 0.0\n",
    "            avg_loss_d = 0.0\n",
    "            num += 1\n",
    "    with torch.no_grad():\n",
    "        s = \"Epoch-\"+str(epoch)\n",
    "        show = torch.clamp(G(test), 0, 1).reshape(32, 1, 28, 28)\n",
    "        writer.add_images(s, show, 0)\n",
    "writer.close()"
   ]
  }
 ],
 "metadata": {
  "kernelspec": {
   "display_name": "Python 3",
   "language": "python",
   "name": "python3"
  },
  "language_info": {
   "codemirror_mode": {
    "name": "ipython",
    "version": 3
   },
   "file_extension": ".py",
   "mimetype": "text/x-python",
   "name": "python",
   "nbconvert_exporter": "python",
   "pygments_lexer": "ipython3",
   "version": "3.8.5"
  }
 },
 "nbformat": 4,
 "nbformat_minor": 4
}
